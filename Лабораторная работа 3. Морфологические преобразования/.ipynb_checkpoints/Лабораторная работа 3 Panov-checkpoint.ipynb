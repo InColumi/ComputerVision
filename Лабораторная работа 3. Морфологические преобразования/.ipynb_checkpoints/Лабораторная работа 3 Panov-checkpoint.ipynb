{
 "cells": [
  {
   "cell_type": "markdown",
   "id": "5517317c",
   "metadata": {},
   "source": [
    "# Лабораторная работа 3. Морфологические преобразования"
   ]
  },
  {
   "cell_type": "markdown",
   "id": "3a5128b6",
   "metadata": {},
   "source": [
    "Морфологические преобразования\n",
    "\n",
    "Следует реализовать выделение проблемных зубьев у шестеренки. Пример разобран на лекции.\n",
    "\n",
    "Описание есть у Стокмана.\n",
    "\n",
    "Использовать только морфологические операции для бинарных изображений.\n",
    "\n",
    "Можно использовать для этого функции OpenCV, например:\n",
    "\n",
    "**Erode** -- размывание(операция сужения)\n",
    "\n",
    "**Dilate** -- растягивание(операция расширения)"
   ]
  },
  {
   "cell_type": "code",
   "execution_count": 1,
   "id": "5412b50a",
   "metadata": {},
   "outputs": [],
   "source": [
    "import cv2\n",
    "from matplotlib import pyplot as plt\n",
    "import numpy as np"
   ]
  },
  {
   "cell_type": "code",
   "execution_count": 2,
   "id": "09092238",
   "metadata": {},
   "outputs": [
    {
     "data": {
      "text/plain": [
       "-1"
      ]
     },
     "execution_count": 2,
     "metadata": {},
     "output_type": "execute_result"
    }
   ],
   "source": [
    "image = cv2.imread(\"1.png\")\n",
    "#image = cv2.imread(r\"1.jpg\")\n",
    "\n",
    "kernel = np.ones((5, 5), np.uint8)\n",
    "\n",
    "image = cv2.erode(image, kernel)\n",
    "cv2.imshow(\"Erode image\", image)\n",
    "\n",
    "cv2.waitKey(0) "
   ]
  },
  {
   "cell_type": "code",
   "execution_count": 4,
   "id": "c1216d63",
   "metadata": {},
   "outputs": [
    {
     "data": {
      "text/plain": [
       "-1"
      ]
     },
     "execution_count": 4,
     "metadata": {},
     "output_type": "execute_result"
    }
   ],
   "source": [
    "kernel = np.ones((5, 5), np.uint8)\n",
    "\n",
    "image = cv2.dilate(image, kernel, iterations= 5, borderType=cv2.BORDER_CONSTANT)\n",
    "cv2.imshow(\"Dilate image\", image)\n",
    "\n",
    "cv2.waitKey(0) "
   ]
  },
  {
   "cell_type": "code",
   "execution_count": null,
   "id": "e16ccb25",
   "metadata": {},
   "outputs": [],
   "source": []
  }
 ],
 "metadata": {
  "kernelspec": {
   "display_name": "Python 3 (ipykernel)",
   "language": "python",
   "name": "python3"
  },
  "language_info": {
   "codemirror_mode": {
    "name": "ipython",
    "version": 3
   },
   "file_extension": ".py",
   "mimetype": "text/x-python",
   "name": "python",
   "nbconvert_exporter": "python",
   "pygments_lexer": "ipython3",
   "version": "3.8.8"
  }
 },
 "nbformat": 4,
 "nbformat_minor": 5
}
