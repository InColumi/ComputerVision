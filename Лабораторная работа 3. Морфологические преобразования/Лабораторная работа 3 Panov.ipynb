{
 "cells": [
  {
   "cell_type": "markdown",
   "id": "5517317c",
   "metadata": {},
   "source": [
    "# Лабораторная работа 3. Морфологические преобразования"
   ]
  },
  {
   "cell_type": "markdown",
   "id": "3a5128b6",
   "metadata": {},
   "source": [
    "Морфологические преобразования\n",
    "\n",
    "Следует реализовать выделение проблемных зубьев у шестеренки. Пример разобран на лекции.\n",
    "\n",
    "Описание есть у Стокмана.\n",
    "\n",
    "Использовать только морфологические операции для бинарных изображений.\n",
    "\n",
    "Можно использовать для этого функции OpenCV, например:\n",
    "\n",
    "**Erode** -- размывание(операция сужения)\n",
    "\n",
    "**Dilate** -- растягивание(операция расширения)"
   ]
  },
  {
   "cell_type": "code",
   "execution_count": 1,
   "id": "5412b50a",
   "metadata": {},
   "outputs": [],
   "source": [
    "import cv2\n",
    "from matplotlib import pyplot as plt\n",
    "%matplotlib inline \n",
    "import numpy as np\n",
    "from __future__ import print_function\n",
    "from ipywidgets import interact, interactive, fixed, interact_manual\n",
    "import ipywidgets as widgets"
   ]
  },
  {
   "cell_type": "markdown",
   "id": "4e3c4cda",
   "metadata": {},
   "source": [
    "# Читаем изображение"
   ]
  },
  {
   "cell_type": "code",
   "execution_count": 9,
   "id": "9698db0a",
   "metadata": {},
   "outputs": [],
   "source": [
    "imageSrs = cv2.imread(\"1.png\")"
   ]
  },
  {
   "cell_type": "code",
   "execution_count": 10,
   "id": "09092238",
   "metadata": {},
   "outputs": [],
   "source": [
    "def showImage(imageArray, size=(10,10)):\n",
    "    plt.figure(figsize=size)\n",
    "    plt.imshow(imageArray, interpolation='nearest')\n",
    "    plt.show()"
   ]
  },
  {
   "cell_type": "code",
   "execution_count": 11,
   "id": "aa7b8d1e",
   "metadata": {},
   "outputs": [],
   "source": [
    "def interactTransform(image, widthErode=(1, 30), heigtErode=(1,30), widthDilate=(1, 30), heigtDilate=(1,30)):\n",
    "    res = image\n",
    "    res = cv2.erode(res, np.ones((widthErode, heigtErode), 'uint8'))\n",
    "    res = cv2.dilate(res, np.ones((widthDilate, heigtDilate), np.uint8))\n",
    "    showImage(res)"
   ]
  },
  {
   "cell_type": "code",
   "execution_count": 12,
   "id": "5fc3df14",
   "metadata": {},
   "outputs": [
    {
     "data": {
      "application/vnd.jupyter.widget-view+json": {
       "model_id": "67d0a13c845e4e7ab1e3e0baa5028c58",
       "version_major": 2,
       "version_minor": 0
      },
      "text/plain": [
       "interactive(children=(IntSlider(value=15, description='widthErode', max=30, min=1), IntSlider(value=15, descri…"
      ]
     },
     "metadata": {},
     "output_type": "display_data"
    },
    {
     "data": {
      "text/plain": [
       "<function __main__.interactTransform(image, widthErode=(1, 30), heigtErode=(1, 30), widthDilate=(1, 30), heigtDilate=(1, 30))>"
      ]
     },
     "execution_count": 12,
     "metadata": {},
     "output_type": "execute_result"
    }
   ],
   "source": [
    "interact(interactTransform, image=fixed(imageSrs), widthErode=(1, 30), heigtErode=(1,30), widthDilate=(1, 30), heigtDilate=(1,30))"
   ]
  },
  {
   "cell_type": "code",
   "execution_count": 22,
   "id": "e16ccb25",
   "metadata": {},
   "outputs": [
    {
     "ename": "NameError",
     "evalue": "name 'interactive' is not defined",
     "output_type": "error",
     "traceback": [
      "\u001b[1;31m---------------------------------------------------------------------------\u001b[0m",
      "\u001b[1;31mNameError\u001b[0m                                 Traceback (most recent call last)",
      "\u001b[1;32mC:\\Temp/ipykernel_5716/3731213452.py\u001b[0m in \u001b[0;36m<module>\u001b[1;34m\u001b[0m\n\u001b[1;32m----> 1\u001b[1;33m \u001b[0mw\u001b[0m \u001b[1;33m=\u001b[0m \u001b[0minteractive\u001b[0m\u001b[1;33m(\u001b[0m\u001b[0mtransformErode\u001b[0m\u001b[1;33m,\u001b[0m \u001b[0mimage\u001b[0m\u001b[1;33m,\u001b[0m \u001b[0mb\u001b[0m\u001b[1;33m=\u001b[0m\u001b[1;33m(\u001b[0m\u001b[1;33m-\u001b[0m\u001b[1;36m2.0\u001b[0m\u001b[1;33m,\u001b[0m\u001b[1;36m2.0\u001b[0m\u001b[1;33m)\u001b[0m\u001b[1;33m)\u001b[0m\u001b[1;33m\u001b[0m\u001b[1;33m\u001b[0m\u001b[0m\n\u001b[0m\u001b[0;32m      2\u001b[0m \u001b[0mdisplay\u001b[0m\u001b[1;33m(\u001b[0m\u001b[0mw\u001b[0m\u001b[1;33m)\u001b[0m\u001b[1;33m\u001b[0m\u001b[1;33m\u001b[0m\u001b[0m\n",
      "\u001b[1;31mNameError\u001b[0m: name 'interactive' is not defined"
     ]
    }
   ],
   "source": []
  },
  {
   "cell_type": "code",
   "execution_count": null,
   "id": "1d30fc27",
   "metadata": {},
   "outputs": [],
   "source": []
  }
 ],
 "metadata": {
  "kernelspec": {
   "display_name": "Python 3 (ipykernel)",
   "language": "python",
   "name": "python3"
  },
  "language_info": {
   "codemirror_mode": {
    "name": "ipython",
    "version": 3
   },
   "file_extension": ".py",
   "mimetype": "text/x-python",
   "name": "python",
   "nbconvert_exporter": "python",
   "pygments_lexer": "ipython3",
   "version": "3.8.8"
  }
 },
 "nbformat": 4,
 "nbformat_minor": 5
}
