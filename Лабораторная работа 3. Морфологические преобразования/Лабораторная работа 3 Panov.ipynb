{
 "cells": [
  {
   "cell_type": "markdown",
   "id": "5517317c",
   "metadata": {},
   "source": [
    "# Лабораторная работа 3. Морфологические преобразования"
   ]
  },
  {
   "cell_type": "markdown",
   "id": "3a5128b6",
   "metadata": {},
   "source": [
    "Морфологические преобразования\n",
    "\n",
    "Следует реализовать выделение проблемных зубьев у шестеренки. Пример разобран на лекции.\n",
    "\n",
    "Описание есть у Стокмана.\n",
    "\n",
    "Использовать только морфологические операции для бинарных изображений.\n",
    "\n",
    "Можно использовать для этого функции OpenCV, например:\n",
    "\n",
    "**Erode** -- размывание(операция сужения)\n",
    "\n",
    "**Dilate** -- растягивание(операция расширения)"
   ]
  },
  {
   "cell_type": "code",
   "execution_count": 1,
   "id": "5412b50a",
   "metadata": {},
   "outputs": [],
   "source": [
    "import cv2\n",
    "from matplotlib import pyplot as plt\n",
    "%matplotlib inline \n",
    "import numpy as np\n",
    "from __future__ import print_function\n",
    "from ipywidgets import interact, interactive, fixed, interact_manual\n",
    "import ipywidgets as widgets"
   ]
  },
  {
   "cell_type": "markdown",
   "id": "4e3c4cda",
   "metadata": {},
   "source": [
    "# Читаем изображение"
   ]
  },
  {
   "cell_type": "code",
   "execution_count": 2,
   "id": "9698db0a",
   "metadata": {},
   "outputs": [],
   "source": [
    "imageSrs = cv2.imread(\"1.png\")"
   ]
  },
  {
   "cell_type": "code",
   "execution_count": 3,
   "id": "09092238",
   "metadata": {},
   "outputs": [],
   "source": [
    "def showImage(imageArray, size=(10,10)):\n",
    "    plt.figure(figsize=size)\n",
    "    plt.imshow(imageArray, interpolation='nearest')\n",
    "    plt.show()"
   ]
  },
  {
   "cell_type": "markdown",
   "id": "9810a9b6",
   "metadata": {},
   "source": [
    "# B1 = Исходное - hole_ring"
   ]
  },
  {
   "cell_type": "code",
   "execution_count": 4,
   "id": "f22edf8b",
   "metadata": {},
   "outputs": [],
   "source": [
    "def transformPointImage(image, width, height, r1, r2, x, y):\n",
    "    res = image\n",
    "    circle = cv2.circle(np.zeros((width, height), np.uint8), (x,y), r1, 255, -1)\n",
    "    mask = cv2.circle(np.zeros((width, height), np.uint8), (x,y), r2, 255, -1) - circle\n",
    "    res = cv2.erode(res, mask)\n",
    "    showImage(res)"
   ]
  },
  {
   "cell_type": "code",
   "execution_count": 5,
   "id": "9493a2f9",
   "metadata": {},
   "outputs": [
    {
     "data": {
      "application/vnd.jupyter.widget-view+json": {
       "model_id": "48d8e0442aaa41848841edb7b270a866",
       "version_major": 2,
       "version_minor": 0
      },
      "text/plain": [
       "interactive(children=(IntSlider(value=100, description='width', max=200, min=1), IntSlider(value=100, descript…"
      ]
     },
     "metadata": {},
     "output_type": "display_data"
    },
    {
     "data": {
      "text/plain": [
       "<function __main__.getPointImage(image, width, height, r1, r2, x, y)>"
      ]
     },
     "execution_count": 5,
     "metadata": {},
     "output_type": "execute_result"
    }
   ],
   "source": [
    "interact(transformPointImage, image=fixed(imageSrs), width=(1, 200), height=(1,200), r1=(1, 100), r2=(1, 100), x=(1,50), y=(1,50))"
   ]
  },
  {
   "cell_type": "markdown",
   "id": "bdc9ffa3",
   "metadata": {},
   "source": [
    "# Результат пункта 1"
   ]
  },
  {
   "cell_type": "code",
   "execution_count": 10,
   "id": "3d0c80d9",
   "metadata": {
    "scrolled": false
   },
   "outputs": [
    {
     "data": {
      "image/png": "[encoded data removed]",
      "text/plain": [
       "<Figure size 720x720 with 1 Axes>"
      ]
     },
     "metadata": {
      "needs_background": "light"
     },
     "output_type": "display_data"
    }
   ],
   "source": [
    "res = imageSrs\n",
    "circlePoit = cv2.circle(np.zeros((100, 100), np.uint8), (50,50), 49, 255, -1)\n",
    "maskPint = cv2.circle(np.zeros((100, 100), np.uint8), (50,50), 53, 255, -1) - circlePoit\n",
    "imagePoint = cv2.erode(res, maskPint)\n",
    "showImage(imagePoint)"
   ]
  },
  {
   "cell_type": "markdown",
   "id": "43b06ce0",
   "metadata": {},
   "source": [
    "# B2 = B1 - hole_mask"
   ]
  },
  {
   "cell_type": "code",
   "execution_count": 12,
   "id": "aa7b8d1e",
   "metadata": {},
   "outputs": [
    {
     "data": {
      "image/png": "[encoded data removed]",
      "text/plain": [
       "<Figure size 720x720 with 1 Axes>"
      ]
     },
     "metadata": {
      "needs_background": "light"
     },
     "output_type": "display_data"
    },
    {
     "data": {
      "application/vnd.jupyter.widget-view+json": {
       "model_id": "2edcbe4c3c3044f8972a4b93d9085166",
       "version_major": 2,
       "version_minor": 0
      },
      "text/plain": [
       "interactive(children=(IntSlider(value=100, description='width', max=200, min=1), IntSlider(value=100, descript…"
      ]
     },
     "metadata": {},
     "output_type": "display_data"
    },
    {
     "data": {
      "text/plain": [
       "<function __main__.transformCircle(image, width, height, r, x, y)>"
      ]
     },
     "execution_count": 12,
     "metadata": {},
     "output_type": "execute_result"
    }
   ],
   "source": [
    "def transformCircle(image, width, height, r, x, y):\n",
    "    res = image\n",
    "    circle = cv2.circle(np.zeros((width, height), np.uint8), (x,y), r, 255, -1)\n",
    "    res = cv2.dilate(res, circle)\n",
    "    showImage(res)\n",
    "\n",
    "showImage(imagePoint)\n",
    "#showImage(bitImage)\n",
    "\n",
    "maxValue = 200\n",
    "interact(transformCircle, image=fixed(imagePoint), width=(1, maxValue), height=(1,maxValue), r=(1, maxValue), x=(1,maxValue), y=(1,maxValue))"
   ]
  },
  {
   "cell_type": "markdown",
   "id": "2db569d7",
   "metadata": {},
   "source": [
    "# B3 = Исходное - B2"
   ]
  },
  {
   "cell_type": "markdown",
   "id": "330c706e",
   "metadata": {},
   "source": [
    "Преобразование"
   ]
  },
  {
   "cell_type": "code",
   "execution_count": 51,
   "id": "1d30fc27",
   "metadata": {},
   "outputs": [
    {
     "name": "stdout",
     "output_type": "stream",
     "text": [
      "(428, 718, 3)\n"
     ]
    }
   ],
   "source": [
    "#for i in range(imageSrs.size())\n",
    "print(imageSrs.shape)"
   ]
  },
  {
   "cell_type": "code",
   "execution_count": 7,
   "id": "0e8df5b4",
   "metadata": {},
   "outputs": [],
   "source": []
  },
  {
   "cell_type": "code",
   "execution_count": 21,
   "id": "08151978",
   "metadata": {},
   "outputs": [],
   "source": [
    "def interactTransform(widthErode=(1, 40), heightErode=(1,40), widthDilate=(1, 40), heightDilate=(1,40)):\n",
    "    circle = cv2.circle(np.zeros((widthErode, heightErode), np.uint8), (widthDilate,heightDilate), 48, 255, -1)\n",
    "    #mask = cv2.circle(np.zeros((widthErode, heightErode), np.uint8), (widthDilate,heightDilate), 50, 255, -1) - circle\n",
    "    showImage(circle)"
   ]
  },
  {
   "cell_type": "code",
   "execution_count": 22,
   "id": "1b24b521",
   "metadata": {},
   "outputs": [
    {
     "data": {
      "application/vnd.jupyter.widget-view+json": {
       "model_id": "333915129ec54593b91150a9d52487ce",
       "version_major": 2,
       "version_minor": 0
      },
      "text/plain": [
       "interactive(children=(IntSlider(value=250, description='widthErode', max=500, min=1), IntSlider(value=250, des…"
      ]
     },
     "metadata": {},
     "output_type": "display_data"
    },
    {
     "data": {
      "text/plain": [
       "<function __main__.interactTransform(widthErode=(1, 40), heightErode=(1, 40), widthDilate=(1, 40), heightDilate=(1, 40))>"
      ]
     },
     "execution_count": 22,
     "metadata": {},
     "output_type": "execute_result"
    }
   ],
   "source": [
    "maxValue = 500\n",
    "interact(interactTransform, image=fixed(imageSrs), widthErode=(1, maxValue), heightErode=(1,maxValue), widthDilate=(1, maxValue), heightDilate=(1,maxValue))"
   ]
  },
  {
   "cell_type": "code",
   "execution_count": 79,
   "id": "5e1481f5",
   "metadata": {},
   "outputs": [],
   "source": [
    "pts = np.array([[50, 50], [50, 50], [50, 50], [50, 50]], np.int32)"
   ]
  },
  {
   "cell_type": "code",
   "execution_count": 81,
   "id": "54f32ba2",
   "metadata": {},
   "outputs": [
    {
     "data": {
      "text/plain": [
       "array([[50, 50],\n",
       "       [50, 50],\n",
       "       [50, 50],\n",
       "       [50, 50]])"
      ]
     },
     "execution_count": 81,
     "metadata": {},
     "output_type": "execute_result"
    }
   ],
   "source": [
    "pts"
   ]
  },
  {
   "cell_type": "code",
   "execution_count": 83,
   "id": "f91b26c1",
   "metadata": {},
   "outputs": [
    {
     "data": {
      "text/plain": [
       "array([[[50, 50]],\n",
       "\n",
       "       [[50, 50]],\n",
       "\n",
       "       [[50, 50]],\n",
       "\n",
       "       [[50, 50]]])"
      ]
     },
     "execution_count": 83,
     "metadata": {},
     "output_type": "execute_result"
    }
   ],
   "source": [
    "pts = pts.reshape((-1, 1, 2))\n",
    "pts"
   ]
  },
  {
   "cell_type": "code",
   "execution_count": null,
   "id": "7f9eeddf",
   "metadata": {},
   "outputs": [],
   "source": []
  }
 ],
 "metadata": {
  "kernelspec": {
   "display_name": "Python 3 (ipykernel)",
   "language": "python",
   "name": "python3"
  },
  "language_info": {
   "codemirror_mode": {
    "name": "ipython",
    "version": 3
   },
   "file_extension": ".py",
   "mimetype": "text/x-python",
   "name": "python",
   "nbconvert_exporter": "python",
   "pygments_lexer": "ipython3",
   "version": "3.8.8"
  }
 },
 "nbformat": 4,
 "nbformat_minor": 5
}
