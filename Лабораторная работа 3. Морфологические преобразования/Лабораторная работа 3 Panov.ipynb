{
 "cells": [
  {
   "cell_type": "markdown",
   "id": "5517317c",
   "metadata": {},
   "source": [
    "# Лабораторная работа 3. Морфологические преобразования"
   ]
  },
  {
   "cell_type": "markdown",
   "id": "3a5128b6",
   "metadata": {},
   "source": [
    "Морфологические преобразования\n",
    "\n",
    "Следует реализовать выделение проблемных зубьев у шестеренки. Пример разобран на лекции.\n",
    "\n",
    "Описание есть у Стокмана.\n",
    "\n",
    "Использовать только морфологические операции для бинарных изображений.\n",
    "\n",
    "Можно использовать для этого функции OpenCV, например:\n",
    "\n",
    "**Erode** -- размывание(операция сужения)\n",
    "\n",
    "**Dilate** -- растягивание(операция расширения)"
   ]
  },
  {
   "cell_type": "code",
   "execution_count": 1,
   "id": "5412b50a",
   "metadata": {},
   "outputs": [],
   "source": [
    "import cv2\n",
    "from matplotlib import pyplot as plt\n",
    "%matplotlib inline \n",
    "import numpy as np\n",
    "from __future__ import print_function\n",
    "from ipywidgets import interact, interactive, fixed, interact_manual\n",
    "import ipywidgets as widgets"
   ]
  },
  {
   "cell_type": "markdown",
   "id": "4e3c4cda",
   "metadata": {},
   "source": [
    "# Читаем изображение"
   ]
  },
  {
   "cell_type": "code",
   "execution_count": 2,
   "id": "9698db0a",
   "metadata": {},
   "outputs": [],
   "source": [
    "imageSrs = cv2.imread(\"1.png\")"
   ]
  },
  {
   "cell_type": "code",
   "execution_count": 29,
   "id": "09092238",
   "metadata": {},
   "outputs": [],
   "source": [
    "def showImage(imageArray, size=(10,10)):\n",
    "    plt.figure(figsize=size)\n",
    "    plt.imshow(imageArray, interpolation='nearest')\n",
    "    plt.show()"
   ]
  },
  {
   "cell_type": "markdown",
   "id": "3190b4e5",
   "metadata": {},
   "source": [
    "# B1 = Исходное - hole_ring"
   ]
  },
  {
   "cell_type": "code",
   "execution_count": 66,
   "id": "71680dca",
   "metadata": {
    "scrolled": false
   },
   "outputs": [
    {
     "data": {
      "image/png": "[encoded data removed]",
      "text/plain": [
       "<Figure size 720x720 with 1 Axes>"
      ]
     },
     "metadata": {
      "needs_background": "light"
     },
     "output_type": "display_data"
    }
   ],
   "source": [
    "res = imageSrs\n",
    "circle = cv2.circle(np.zeros((100, 100), np.uint8), (50,50), 48, 255, -1)\n",
    "mask = cv2.circle(np.zeros((100, 100), np.uint8), (50,50), 51, 255, -1) - circle\n",
    "res = cv2.erode(res, mask)\n",
    "showImage(res)\n",
    "\n",
    "imagePoint = res.copy()"
   ]
  },
  {
   "cell_type": "markdown",
   "id": "5ae60d0d",
   "metadata": {},
   "source": [
    "# B2 = B1 - hole_mask"
   ]
  },
  {
   "cell_type": "code",
   "execution_count": 67,
   "id": "aa7b8d1e",
   "metadata": {},
   "outputs": [],
   "source": [
    "def interactTransform(image, widthErode=(1, 40), heightErode=(1,40), widthDilate=(1, 40), heightDilate=(1,40)):\n",
    "    res = image\n",
    "    pts = np.array([[100,350],[165,350],[165,240]], np.int32)\n",
    "    mask = cv2.hex(,)\n",
    "    #circle = cv2.s(np.zeros((100, 100), np.uint8), (50,50), 48, 255, -1)\n",
    "    res = cv2.dilate(res, mask)\n",
    "    #res = cv2.dilate(res, np.ones((widthDilate, heightDilate), np.uint8))\n",
    "    #res = cv2.erode(res, circle)\n",
    "    #res = cv2.dilate(res, circle, np.uint8)\n",
    "    showImage(res)"
   ]
  },
  {
   "cell_type": "code",
   "execution_count": 68,
   "id": "2d980c70",
   "metadata": {},
   "outputs": [],
   "source": [
    "bitImage = cv2.bitwise_not(imageSrs)"
   ]
  },
  {
   "cell_type": "code",
   "execution_count": 69,
   "id": "5fc3df14",
   "metadata": {},
   "outputs": [
    {
     "data": {
      "image/png": "[encoded data removed]",
      "text/plain": [
       "<Figure size 720x720 with 1 Axes>"
      ]
     },
     "metadata": {
      "needs_background": "light"
     },
     "output_type": "display_data"
    },
    {
     "data": {
      "application/vnd.jupyter.widget-view+json": {
       "model_id": "1c5d965c69b2408a91de405c22b4ab08",
       "version_major": 2,
       "version_minor": 0
      },
      "text/plain": [
       "interactive(children=(IntSlider(value=100, description='widthErode', max=200, min=1), IntSlider(value=100, des…"
      ]
     },
     "metadata": {},
     "output_type": "display_data"
    },
    {
     "data": {
      "text/plain": [
       "<function __main__.interactTransform(image, widthErode=(1, 40), heightErode=(1, 40), widthDilate=(1, 40), heightDilate=(1, 40))>"
      ]
     },
     "execution_count": 69,
     "metadata": {},
     "output_type": "execute_result"
    }
   ],
   "source": [
    "showImage(imagePoint)\n",
    "#showImage(bitImage)\n",
    "\n",
    "maxValue = 200\n",
    "interact(interactTransform, image=fixed(imagePoint), widthErode=(1, maxValue), heightErode=(1,maxValue), widthDilate=(1, maxValue), heightDilate=(1,maxValue))"
   ]
  },
  {
   "cell_type": "code",
   "execution_count": 51,
   "id": "1d30fc27",
   "metadata": {},
   "outputs": [
    {
     "name": "stdout",
     "output_type": "stream",
     "text": [
      "(428, 718, 3)\n"
     ]
    }
   ],
   "source": [
    "#for i in range(imageSrs.size())\n",
    "print(imageSrs.shape)"
   ]
  },
  {
   "cell_type": "code",
   "execution_count": 7,
   "id": "a0f20d0d",
   "metadata": {},
   "outputs": [],
   "source": []
  },
  {
   "cell_type": "code",
   "execution_count": 21,
   "id": "4c53a6c3",
   "metadata": {},
   "outputs": [],
   "source": [
    "def interactTransform(widthErode=(1, 40), heightErode=(1,40), widthDilate=(1, 40), heightDilate=(1,40)):\n",
    "    circle = cv2.circle(np.zeros((widthErode, heightErode), np.uint8), (widthDilate,heightDilate), 48, 255, -1)\n",
    "    #mask = cv2.circle(np.zeros((widthErode, heightErode), np.uint8), (widthDilate,heightDilate), 50, 255, -1) - circle\n",
    "    showImage(circle)"
   ]
  },
  {
   "cell_type": "code",
   "execution_count": 22,
   "id": "23f2d8a4",
   "metadata": {},
   "outputs": [
    {
     "data": {
      "application/vnd.jupyter.widget-view+json": {
       "model_id": "333915129ec54593b91150a9d52487ce",
       "version_major": 2,
       "version_minor": 0
      },
      "text/plain": [
       "interactive(children=(IntSlider(value=250, description='widthErode', max=500, min=1), IntSlider(value=250, des…"
      ]
     },
     "metadata": {},
     "output_type": "display_data"
    },
    {
     "data": {
      "text/plain": [
       "<function __main__.interactTransform(widthErode=(1, 40), heightErode=(1, 40), widthDilate=(1, 40), heightDilate=(1, 40))>"
      ]
     },
     "execution_count": 22,
     "metadata": {},
     "output_type": "execute_result"
    }
   ],
   "source": [
    "maxValue = 500\n",
    "interact(interactTransform, image=fixed(imageSrs), widthErode=(1, maxValue), heightErode=(1,maxValue), widthDilate=(1, maxValue), heightDilate=(1,maxValue))"
   ]
  },
  {
   "cell_type": "code",
   "execution_count": null,
   "id": "b0583912",
   "metadata": {},
   "outputs": [],
   "source": []
  },
  {
   "cell_type": "code",
   "execution_count": null,
   "id": "ec35443a",
   "metadata": {},
   "outputs": [],
   "source": []
  }
 ],
 "metadata": {
  "kernelspec": {
   "display_name": "Python 3 (ipykernel)",
   "language": "python",
   "name": "python3"
  },
  "language_info": {
   "codemirror_mode": {
    "name": "ipython",
    "version": 3
   },
   "file_extension": ".py",
   "mimetype": "text/x-python",
   "name": "python",
   "nbconvert_exporter": "python",
   "pygments_lexer": "ipython3",
   "version": "3.8.8"
  }
 },
 "nbformat": 4,
 "nbformat_minor": 5
}
